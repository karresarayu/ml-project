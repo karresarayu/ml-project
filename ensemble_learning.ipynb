{
 "cells": [
  {
   "cell_type": "markdown",
   "metadata": {},
   "source": []
  },
  {
   "cell_type": "code",
   "execution_count": null,
   "metadata": {},
   "outputs": [],
   "source": []
  },
  {
   "cell_type": "code",
   "execution_count": 3,
   "metadata": {
    "execution": {
     "iopub.execute_input": "2021-07-14T13:51:52.45987Z",
     "iopub.status.busy": "2021-07-14T13:51:52.459433Z",
     "iopub.status.idle": "2021-07-14T13:51:52.527137Z",
     "shell.execute_reply": "2021-07-14T13:51:52.526257Z",
     "shell.execute_reply.started": "2021-07-14T13:51:52.459769Z"
    }
   },
   "outputs": [
    {
     "data": {
      "text/html": [
       "<div>\n",
       "<style scoped>\n",
       "    .dataframe tbody tr th:only-of-type {\n",
       "        vertical-align: middle;\n",
       "    }\n",
       "\n",
       "    .dataframe tbody tr th {\n",
       "        vertical-align: top;\n",
       "    }\n",
       "\n",
       "    .dataframe thead th {\n",
       "        text-align: right;\n",
       "    }\n",
       "</style>\n",
       "<table border=\"1\" class=\"dataframe\">\n",
       "  <thead>\n",
       "    <tr style=\"text-align: right;\">\n",
       "      <th></th>\n",
       "      <th>ph</th>\n",
       "      <th>Hardness</th>\n",
       "      <th>Solids</th>\n",
       "      <th>Chloramines</th>\n",
       "      <th>Sulfate</th>\n",
       "      <th>Conductivity</th>\n",
       "      <th>Organic_carbon</th>\n",
       "      <th>Trihalomethanes</th>\n",
       "      <th>Turbidity</th>\n",
       "      <th>Potability</th>\n",
       "    </tr>\n",
       "  </thead>\n",
       "  <tbody>\n",
       "    <tr>\n",
       "      <th>0</th>\n",
       "      <td>NaN</td>\n",
       "      <td>204.890455</td>\n",
       "      <td>20791.318981</td>\n",
       "      <td>7.300212</td>\n",
       "      <td>368.516441</td>\n",
       "      <td>564.308654</td>\n",
       "      <td>10.379783</td>\n",
       "      <td>86.990970</td>\n",
       "      <td>2.963135</td>\n",
       "      <td>0</td>\n",
       "    </tr>\n",
       "    <tr>\n",
       "      <th>1</th>\n",
       "      <td>3.716080</td>\n",
       "      <td>129.422921</td>\n",
       "      <td>18630.057858</td>\n",
       "      <td>6.635246</td>\n",
       "      <td>NaN</td>\n",
       "      <td>592.885359</td>\n",
       "      <td>15.180013</td>\n",
       "      <td>56.329076</td>\n",
       "      <td>4.500656</td>\n",
       "      <td>0</td>\n",
       "    </tr>\n",
       "    <tr>\n",
       "      <th>2</th>\n",
       "      <td>8.099124</td>\n",
       "      <td>224.236259</td>\n",
       "      <td>19909.541732</td>\n",
       "      <td>9.275884</td>\n",
       "      <td>NaN</td>\n",
       "      <td>418.606213</td>\n",
       "      <td>16.868637</td>\n",
       "      <td>66.420093</td>\n",
       "      <td>3.055934</td>\n",
       "      <td>0</td>\n",
       "    </tr>\n",
       "    <tr>\n",
       "      <th>3</th>\n",
       "      <td>8.316766</td>\n",
       "      <td>214.373394</td>\n",
       "      <td>22018.417441</td>\n",
       "      <td>8.059332</td>\n",
       "      <td>356.886136</td>\n",
       "      <td>363.266516</td>\n",
       "      <td>18.436524</td>\n",
       "      <td>100.341674</td>\n",
       "      <td>4.628771</td>\n",
       "      <td>0</td>\n",
       "    </tr>\n",
       "    <tr>\n",
       "      <th>4</th>\n",
       "      <td>9.092223</td>\n",
       "      <td>181.101509</td>\n",
       "      <td>17978.986339</td>\n",
       "      <td>6.546600</td>\n",
       "      <td>310.135738</td>\n",
       "      <td>398.410813</td>\n",
       "      <td>11.558279</td>\n",
       "      <td>31.997993</td>\n",
       "      <td>4.075075</td>\n",
       "      <td>0</td>\n",
       "    </tr>\n",
       "  </tbody>\n",
       "</table>\n",
       "</div>"
      ],
      "text/plain": [
       "         ph    Hardness        Solids  Chloramines     Sulfate  Conductivity  \\\n",
       "0       NaN  204.890455  20791.318981     7.300212  368.516441    564.308654   \n",
       "1  3.716080  129.422921  18630.057858     6.635246         NaN    592.885359   \n",
       "2  8.099124  224.236259  19909.541732     9.275884         NaN    418.606213   \n",
       "3  8.316766  214.373394  22018.417441     8.059332  356.886136    363.266516   \n",
       "4  9.092223  181.101509  17978.986339     6.546600  310.135738    398.410813   \n",
       "\n",
       "   Organic_carbon  Trihalomethanes  Turbidity  Potability  \n",
       "0       10.379783        86.990970   2.963135           0  \n",
       "1       15.180013        56.329076   4.500656           0  \n",
       "2       16.868637        66.420093   3.055934           0  \n",
       "3       18.436524       100.341674   4.628771           0  \n",
       "4       11.558279        31.997993   4.075075           0  "
      ]
     },
     "execution_count": 3,
     "metadata": {},
     "output_type": "execute_result"
    }
   ],
   "source": [
    "import pandas as pd\n",
    "import numpy as np\n",
    "df = pd.read_csv(\"water_potability.csv\")\n",
    "df.head()"
   ]
  },
  {
   "cell_type": "code",
   "execution_count": 4,
   "metadata": {
    "execution": {
     "iopub.execute_input": "2021-07-14T13:51:52.528924Z",
     "iopub.status.busy": "2021-07-14T13:51:52.528616Z",
     "iopub.status.idle": "2021-07-14T13:51:52.534668Z",
     "shell.execute_reply": "2021-07-14T13:51:52.533794Z",
     "shell.execute_reply.started": "2021-07-14T13:51:52.528896Z"
    }
   },
   "outputs": [
    {
     "data": {
      "text/plain": [
       "(3276, 10)"
      ]
     },
     "execution_count": 4,
     "metadata": {},
     "output_type": "execute_result"
    }
   ],
   "source": [
    "df.shape"
   ]
  },
  {
   "cell_type": "markdown",
   "metadata": {},
   "source": [
    "There are 3276 rows and 10 columns"
   ]
  },
  {
   "cell_type": "code",
   "execution_count": 5,
   "metadata": {
    "execution": {
     "iopub.execute_input": "2021-07-14T13:51:52.536306Z",
     "iopub.status.busy": "2021-07-14T13:51:52.536043Z",
     "iopub.status.idle": "2021-07-14T13:51:52.548489Z",
     "shell.execute_reply": "2021-07-14T13:51:52.547443Z",
     "shell.execute_reply.started": "2021-07-14T13:51:52.536273Z"
    }
   },
   "outputs": [
    {
     "data": {
      "text/plain": [
       "ph                 491\n",
       "Hardness             0\n",
       "Solids               0\n",
       "Chloramines          0\n",
       "Sulfate            781\n",
       "Conductivity         0\n",
       "Organic_carbon       0\n",
       "Trihalomethanes    162\n",
       "Turbidity            0\n",
       "Potability           0\n",
       "dtype: int64"
      ]
     },
     "execution_count": 5,
     "metadata": {},
     "output_type": "execute_result"
    }
   ],
   "source": [
    "df.isnull().sum()"
   ]
  },
  {
   "cell_type": "code",
   "execution_count": 6,
   "metadata": {
    "execution": {
     "iopub.execute_input": "2021-07-14T13:51:52.550163Z",
     "iopub.status.busy": "2021-07-14T13:51:52.549866Z",
     "iopub.status.idle": "2021-07-14T13:51:52.576936Z",
     "shell.execute_reply": "2021-07-14T13:51:52.575932Z",
     "shell.execute_reply.started": "2021-07-14T13:51:52.550128Z"
    }
   },
   "outputs": [],
   "source": [
    "\n",
    "df= df.dropna()\n"
   ]
  },
  {
   "cell_type": "code",
   "execution_count": 7,
   "metadata": {
    "execution": {
     "iopub.execute_input": "2021-07-14T13:51:52.580421Z",
     "iopub.status.busy": "2021-07-14T13:51:52.579986Z",
     "iopub.status.idle": "2021-07-14T13:51:52.592241Z",
     "shell.execute_reply": "2021-07-14T13:51:52.591387Z",
     "shell.execute_reply.started": "2021-07-14T13:51:52.580374Z"
    }
   },
   "outputs": [
    {
     "data": {
      "text/plain": [
       "0    1200\n",
       "1     811\n",
       "Name: Potability, dtype: int64"
      ]
     },
     "execution_count": 7,
     "metadata": {},
     "output_type": "execute_result"
    }
   ],
   "source": [
    "df.Potability.value_counts()"
   ]
  },
  {
   "cell_type": "code",
   "execution_count": 8,
   "metadata": {
    "execution": {
     "iopub.execute_input": "2021-07-14T13:51:52.594241Z",
     "iopub.status.busy": "2021-07-14T13:51:52.593671Z",
     "iopub.status.idle": "2021-07-14T13:51:53.502941Z",
     "shell.execute_reply": "2021-07-14T13:51:53.502093Z",
     "shell.execute_reply.started": "2021-07-14T13:51:52.594197Z"
    }
   },
   "outputs": [
    {
     "data": {
      "text/plain": [
       "<Axes: ylabel='Potability'>"
      ]
     },
     "execution_count": 8,
     "metadata": {},
     "output_type": "execute_result"
    },
    {
     "data": {
      "image/png": "[encoded data removed]",
      "text/plain": [
       "<Figure size 640x480 with 1 Axes>"
      ]
     },
     "metadata": {},
     "output_type": "display_data"
    }
   ],
   "source": [
    "#Plots\n",
    "import matplotlib.pyplot as plt\n",
    "import seaborn as sns\n",
    "\n",
    "\n",
    "df.Potability.value_counts().plot(kind ='pie')"
   ]
  },
  {
   "cell_type": "markdown",
   "metadata": {},
   "source": [
    "Thus it is an imbalanced dataset, since 0 is much more 1 (1998>1278)\n",
    "So we need to balance the data so that there is no biasedness."
   ]
  },
  {
   "cell_type": "code",
   "execution_count": 9,
   "metadata": {
    "execution": {
     "iopub.execute_input": "2021-07-14T13:51:53.505303Z",
     "iopub.status.busy": "2021-07-14T13:51:53.504887Z",
     "iopub.status.idle": "2021-07-14T13:51:53.616096Z",
     "shell.execute_reply": "2021-07-14T13:51:53.615082Z",
     "shell.execute_reply.started": "2021-07-14T13:51:53.505258Z"
    }
   },
   "outputs": [],
   "source": [
    "zero  = df[df['Potability']==0]   \n",
    "one = df[df['Potability']==1]  \n",
    "from sklearn.utils import resample\n",
    "\n",
    "df_minority_upsampled = resample(one, replace = True, n_samples = 1200) \n",
    "\n",
    "df = pd.concat([zero, df_minority_upsampled])\n",
    "\n",
    "from sklearn.utils import shuffle\n",
    "df = shuffle(df) "
   ]
  },
  {
   "cell_type": "code",
   "execution_count": null,
   "metadata": {
    "execution": {
     "iopub.execute_input": "2021-07-14T13:51:53.618442Z",
     "iopub.status.busy": "2021-07-14T13:51:53.618036Z",
     "iopub.status.idle": "2021-07-14T13:51:53.691526Z",
     "shell.execute_reply": "2021-07-14T13:51:53.690611Z",
     "shell.execute_reply.started": "2021-07-14T13:51:53.618402Z"
    }
   },
   "outputs": [],
   "source": [
    "df.Potability.value_counts().plot(kind ='pie')"
   ]
  },
  {
   "cell_type": "markdown",
   "metadata": {},
   "source": [
    "Now it's perfect!"
   ]
  },
  {
   "cell_type": "code",
   "execution_count": null,
   "metadata": {
    "execution": {
     "iopub.execute_input": "2021-07-14T13:51:53.692953Z",
     "iopub.status.busy": "2021-07-14T13:51:53.692673Z",
     "iopub.status.idle": "2021-07-14T13:51:54.448348Z",
     "shell.execute_reply": "2021-07-14T13:51:54.447422Z",
     "shell.execute_reply.started": "2021-07-14T13:51:53.692925Z"
    }
   },
   "outputs": [],
   "source": [
    "\n",
    "plt.figure(figsize = (15,9))\n",
    "sns.heatmap(df.corr(), annot = True)"
   ]
  },
  {
   "cell_type": "code",
   "execution_count": null,
   "metadata": {
    "execution": {
     "iopub.execute_input": "2021-07-14T13:51:54.449884Z",
     "iopub.status.busy": "2021-07-14T13:51:54.449558Z",
     "iopub.status.idle": "2021-07-14T13:51:54.802245Z",
     "shell.execute_reply": "2021-07-14T13:51:54.801458Z",
     "shell.execute_reply.started": "2021-07-14T13:51:54.449853Z"
    }
   },
   "outputs": [],
   "source": [
    "sns.scatterplot(x=df[\"ph\"], y=df[\"Hardness\"], hue=df.Potability,\n",
    "data=df)\n"
   ]
  },
  {
   "cell_type": "code",
   "execution_count": null,
   "metadata": {
    "execution": {
     "iopub.execute_input": "2021-07-14T13:51:54.804745Z",
     "iopub.status.busy": "2021-07-14T13:51:54.804372Z",
     "iopub.status.idle": "2021-07-14T13:51:55.067755Z",
     "shell.execute_reply": "2021-07-14T13:51:55.066925Z",
     "shell.execute_reply.started": "2021-07-14T13:51:54.80471Z"
    }
   },
   "outputs": [],
   "source": [
    "sns.scatterplot(x=df[\"ph\"], y=df[\"Chloramines\"], hue=df.Potability,\n",
    "data=df)"
   ]
  },
  {
   "cell_type": "markdown",
   "metadata": {},
   "source": [
    "There is no particular pattern!"
   ]
  },
  {
   "cell_type": "code",
   "execution_count": null,
   "metadata": {
    "execution": {
     "iopub.execute_input": "2021-07-14T13:51:55.069573Z",
     "iopub.status.busy": "2021-07-14T13:51:55.069213Z",
     "iopub.status.idle": "2021-07-14T13:51:55.07983Z",
     "shell.execute_reply": "2021-07-14T13:51:55.078757Z",
     "shell.execute_reply.started": "2021-07-14T13:51:55.069539Z"
    }
   },
   "outputs": [],
   "source": [
    "df.corr().abs()['Potability'].sort_values(ascending = False)"
   ]
  },
  {
   "cell_type": "markdown",
   "metadata": {},
   "source": [
    "highest correlation with Potability is solids with 5.24% only"
   ]
  },
  {
   "cell_type": "code",
   "execution_count": null,
   "metadata": {
    "execution": {
     "iopub.execute_input": "2021-07-14T13:51:55.081766Z",
     "iopub.status.busy": "2021-07-14T13:51:55.081294Z",
     "iopub.status.idle": "2021-07-14T13:51:55.087509Z",
     "shell.execute_reply": "2021-07-14T13:51:55.086351Z",
     "shell.execute_reply.started": "2021-07-14T13:51:55.08173Z"
    }
   },
   "outputs": [],
   "source": [
    "X = df.drop(['Potability'], axis = 1)\n",
    "y = df['Potability']"
   ]
  },
  {
   "cell_type": "code",
   "execution_count": null,
   "metadata": {
    "execution": {
     "iopub.execute_input": "2021-07-14T13:51:55.089198Z",
     "iopub.status.busy": "2021-07-14T13:51:55.088871Z",
     "iopub.status.idle": "2021-07-14T13:51:55.133264Z",
     "shell.execute_reply": "2021-07-14T13:51:55.132527Z",
     "shell.execute_reply.started": "2021-07-14T13:51:55.089168Z"
    }
   },
   "outputs": [],
   "source": [
    "from sklearn.preprocessing import StandardScaler\n",
    "sc = StandardScaler()\n",
    "features= X.columns\n",
    "X[features] = sc.fit_transform(X[features])"
   ]
  },
  {
   "cell_type": "code",
   "execution_count": null,
   "metadata": {
    "execution": {
     "iopub.execute_input": "2021-07-14T13:51:55.134912Z",
     "iopub.status.busy": "2021-07-14T13:51:55.134369Z",
     "iopub.status.idle": "2021-07-14T13:51:55.47894Z",
     "shell.execute_reply": "2021-07-14T13:51:55.478168Z",
     "shell.execute_reply.started": "2021-07-14T13:51:55.134872Z"
    }
   },
   "outputs": [],
   "source": [
    "from sklearn.tree import DecisionTreeClassifier\n",
    "from sklearn.ensemble import RandomForestClassifier\n",
    "from sklearn.linear_model import LogisticRegression\n",
    "from sklearn.neighbors import KNeighborsClassifier\n",
    "from sklearn.ensemble import AdaBoostClassifier\n",
    "from sklearn.ensemble import BaggingClassifier\n",
    "from xgboost import XGBClassifier\n",
    "\n",
    "\n",
    "from sklearn.model_selection import train_test_split\n",
    "from sklearn.model_selection import RandomizedSearchCV, GridSearchCV"
   ]
  },
  {
   "cell_type": "code",
   "execution_count": null,
   "metadata": {
    "execution": {
     "iopub.execute_input": "2021-07-14T13:51:55.480615Z",
     "iopub.status.busy": "2021-07-14T13:51:55.480076Z",
     "iopub.status.idle": "2021-07-14T13:51:55.48833Z",
     "shell.execute_reply": "2021-07-14T13:51:55.487149Z",
     "shell.execute_reply.started": "2021-07-14T13:51:55.480575Z"
    }
   },
   "outputs": [],
   "source": [
    "X_train, X_test, y_train, y_test = train_test_split(X,y, test_size = 0.1)"
   ]
  },
  {
   "cell_type": "markdown",
   "metadata": {},
   "source": [
    "## Hyper-parameter Tuning ;)"
   ]
  },
  {
   "cell_type": "code",
   "execution_count": null,
   "metadata": {
    "execution": {
     "iopub.execute_input": "2021-07-14T13:51:55.489989Z",
     "iopub.status.busy": "2021-07-14T13:51:55.489596Z",
     "iopub.status.idle": "2021-07-14T13:51:55.499792Z",
     "shell.execute_reply": "2021-07-14T13:51:55.498889Z",
     "shell.execute_reply.started": "2021-07-14T13:51:55.489955Z"
    }
   },
   "outputs": [],
   "source": [
    "\n",
    "\n",
    "lr = LogisticRegression(random_state=42)\n",
    "\n",
    "knn = KNeighborsClassifier()\n",
    "\n",
    "dt = DecisionTreeClassifier()\n",
    "\n",
    "rf = RandomForestClassifier()\n",
    "\n",
    "ada = AdaBoostClassifier()\n",
    "\n",
    "xgb =XGBClassifier(eval_metric = 'logloss', use_label_encoder=False)\n",
    "\n",
    "\n",
    "para_knn = {'n_neighbors':np.arange(1, 50)} \n",
    "grid_knn = GridSearchCV(knn, param_grid=para_knn, cv=5)\n",
    "\n",
    "#parameters for decision tree\n",
    "para_dt = {'criterion':['gini','entropy'],'max_depth':np.arange(1, 50), 'min_samples_leaf':[1,2,4,5,10,20,30,40,80,100]}\n",
    "grid_dt = GridSearchCV(dt, param_grid=para_dt, cv=5) #grid search decision tree for 5 fold cv\n",
    "\n",
    "\n",
    "\n",
    "params_rf = {'n_estimators':[100,200, 350, 500], 'min_samples_leaf':[2, 10, 30]}\n",
    "grid_rf = GridSearchCV(rf, param_grid=params_rf, cv=5)\n",
    "\n",
    "#parameters fpr AdaBoost\n",
    "params_ada = {'n_estimators': [50,100,250,400,500,600], 'learning_rate': [0.2,0.5,0.8,1]}\n",
    "grid_ada =  GridSearchCV(ada, param_grid=params_ada, cv=5)\n",
    "\n",
    "#XGBoost\n",
    "#parameters for xgboost\n",
    "params_xgb = {'n_estimators': [50,100,250,400,600,800,1000], 'learning_rate': [0.2,0.5,0.8,1]}\n",
    "rs_xgb =  RandomizedSearchCV(xgb, param_distributions=params_xgb, cv=5)\n"
   ]
  },
  {
   "cell_type": "code",
   "execution_count": null,
   "metadata": {
    "_kg_hide-output": true,
    "execution": {
     "iopub.execute_input": "2021-07-14T13:51:55.501324Z",
     "iopub.status.busy": "2021-07-14T13:51:55.501018Z",
     "iopub.status.idle": "2021-07-14T13:58:30.903559Z",
     "shell.execute_reply": "2021-07-14T13:58:30.902546Z",
     "shell.execute_reply.started": "2021-07-14T13:51:55.501297Z"
    }
   },
   "outputs": [],
   "source": [
    "grid_knn.fit(X_train, y_train)\n",
    "grid_dt.fit(X_train, y_train)\n",
    "grid_rf.fit(X_train, y_train)\n",
    "grid_ada.fit(X_train, y_train)\n",
    "rs_xgb.fit(X_train, y_train)\n",
    "\n",
    "print(\"Best parameters for KNN:\", grid_knn.best_params_)\n",
    "print(\"Best parameters for Decision Tree:\", grid_dt.best_params_)\n",
    "print(\"Best parameters for Random Forest:\", grid_rf.best_params_)\n",
    "print(\"Best parameters for AdaBoost:\", grid_ada.best_params_)\n",
    "print(\"Best parameters for XGBoost:\", rs_xgb.best_params_)"
   ]
  },
  {
   "cell_type": "markdown",
   "metadata": {},
   "source": [
    " We got the best parameters."
   ]
  },
  {
   "cell_type": "markdown",
   "metadata": {},
   "source": [
    "#### Applying bagging and boosting"
   ]
  },
  {
   "cell_type": "code",
   "execution_count": null,
   "metadata": {
    "execution": {
     "iopub.execute_input": "2021-07-14T13:58:30.905049Z",
     "iopub.status.busy": "2021-07-14T13:58:30.904775Z",
     "iopub.status.idle": "2021-07-14T13:58:33.760808Z",
     "shell.execute_reply": "2021-07-14T13:58:33.759985Z",
     "shell.execute_reply.started": "2021-07-14T13:58:30.905021Z"
    }
   },
   "outputs": [],
   "source": [
    "lr = LogisticRegression(random_state=42)\n",
    "dt = DecisionTreeClassifier(criterion='entropy', max_depth=42, min_samples_leaf=1, random_state=42)\n",
    "knn = KNeighborsClassifier(n_neighbors=1)\n",
    "rf = RandomForestClassifier(n_estimators=100, min_samples_leaf=2, random_state=42)\n",
    "ada = AdaBoostClassifier(n_estimators= 600, learning_rate= 1 )\n",
    "xgb = XGBClassifier(n_estimators= 250, learning_rate= 0.8)\n",
    "\n",
    "#let's also apply bagging and boosting\n",
    "bagging = BaggingClassifier(DecisionTreeClassifier(criterion='entropy', max_depth=46, min_samples_leaf=2, random_state=42),\n",
    "                           n_estimators = 100, random_state = 42)\n",
    "bagging.fit(X_train, y_train)\n"
   ]
  },
  {
   "cell_type": "code",
   "execution_count": null,
   "metadata": {
    "execution": {
     "iopub.execute_input": "2021-07-14T13:58:33.762192Z",
     "iopub.status.busy": "2021-07-14T13:58:33.761932Z",
     "iopub.status.idle": "2021-07-14T13:58:33.765984Z",
     "shell.execute_reply": "2021-07-14T13:58:33.765237Z",
     "shell.execute_reply.started": "2021-07-14T13:58:33.762158Z"
    }
   },
   "outputs": [],
   "source": [
    "classifiers = [('Logistic Regression', lr), ('K Nearest Neighbours', knn),\n",
    "               ('Decision Tree', dt), ('Random Forest', rf), ('AdaBoost', ada),\n",
    "              ('Bagging Classifier', bagging), ('XGBoost', xgb)]\n"
   ]
  },
  {
   "cell_type": "code",
   "execution_count": null,
   "metadata": {
    "execution": {
     "iopub.execute_input": "2021-07-14T13:58:33.767271Z",
     "iopub.status.busy": "2021-07-14T13:58:33.766868Z",
     "iopub.status.idle": "2021-07-14T13:58:40.756503Z",
     "shell.execute_reply": "2021-07-14T13:58:40.75555Z",
     "shell.execute_reply.started": "2021-07-14T13:58:33.767212Z"
    }
   },
   "outputs": [],
   "source": [
    "from sklearn.metrics import accuracy_score\n",
    "\n",
    "for classifier_name, classifier in classifiers:\n",
    " \n",
    "    # Fit clf to the training set\n",
    "    classifier.fit(X_train, y_train)    \n",
    "   \n",
    "    # Predict y_pred\n",
    "    y_pred = classifier.predict(X_test)\n",
    "    accuracy = accuracy_score(y_test,y_pred)\n",
    "    \n",
    "\n",
    "   \n",
    "    # Evaluate clf's accuracy on the test set\n",
    "    print('{:s} : {:.2f}'.format(classifier_name, accuracy))"
   ]
  },
  {
   "cell_type": "markdown",
   "metadata": {},
   "source": [
    "Random Forest has performed better."
   ]
  },
  {
   "cell_type": "code",
   "execution_count": null,
   "metadata": {
    "execution": {
     "iopub.execute_input": "2021-07-14T13:58:40.757833Z",
     "iopub.status.busy": "2021-07-14T13:58:40.757572Z",
     "iopub.status.idle": "2021-07-14T13:58:40.7866Z",
     "shell.execute_reply": "2021-07-14T13:58:40.78583Z",
     "shell.execute_reply.started": "2021-07-14T13:58:40.757808Z"
    }
   },
   "outputs": [],
   "source": [
    "from sklearn.metrics import classification_report\n",
    "\n",
    "y_pred_rf= rf.predict(X_test)\n",
    "print(classification_report(y_test, y_pred_rf))\n"
   ]
  },
  {
   "cell_type": "markdown",
   "metadata": {},
   "source": [
    "The precision of class 0 is 89% and that of class 1 is 90%\n",
    "It means the model predicts 89% of class 0 and 90% of class 1 correctly"
   ]
  },
  {
   "cell_type": "markdown",
   "metadata": {},
   "source": [
    "Accuracy is 89%"
   ]
  },
  {
   "cell_type": "markdown",
   "metadata": {},
   "source": []
  }
 ],
 "metadata": {
  "kaggle": {
   "accelerator": "none",
   "dataSources": [
    {
     "datasetId": 1292407,
     "sourceId": 2157486,
     "sourceType": "datasetVersion"
    }
   ],
   "dockerImageVersionId": 30096,
   "isGpuEnabled": false,
   "isInternetEnabled": false,
   "language": "python",
   "sourceType": "notebook"
  },
  "kernelspec": {
   "display_name": "Python 3 (ipykernel)",
   "language": "python",
   "name": "python3"
  },
  "language_info": {
   "codemirror_mode": {
    "name": "ipython",
    "version": 3
   },
   "file_extension": ".py",
   "mimetype": "text/x-python",
   "name": "python",
   "nbconvert_exporter": "python",
   "pygments_lexer": "ipython3",
   "version": "3.10.9"
  }
 },
 "nbformat": 4,
 "nbformat_minor": 4
}
